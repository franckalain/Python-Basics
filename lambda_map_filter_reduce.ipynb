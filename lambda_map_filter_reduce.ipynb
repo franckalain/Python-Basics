{
  "nbformat": 4,
  "nbformat_minor": 0,
  "metadata": {
    "colab": {
      "name": "lambda_map_filter_reduce.ipynb",
      "version": "0.3.2",
      "provenance": [],
      "include_colab_link": true
    },
    "kernelspec": {
      "name": "python3",
      "display_name": "Python 3"
    }
  },
  "cells": [
    {
      "cell_type": "markdown",
      "metadata": {
        "id": "view-in-github",
        "colab_type": "text"
      },
      "source": [
        "<a href=\"https://colab.research.google.com/github/franckalain/Python-Basics/blob/master/lambda_map_filter_reduce.ipynb\" target=\"_parent\"><img src=\"https://colab.research.google.com/assets/colab-badge.svg\" alt=\"Open In Colab\"/></a>"
      ]
    },
    {
      "cell_type": "code",
      "metadata": {
        "id": "0QhkPDI1cZWH",
        "colab_type": "code",
        "colab": {
          "base_uri": "https://localhost:8080/",
          "height": 34
        },
        "outputId": "4248de56-b883-45f4-df65-f1929214659c"
      },
      "source": [
        "def add(*args):\n",
        "  return sum(args)\n",
        "add(2, 3, 4, 5)"
      ],
      "execution_count": 6,
      "outputs": [
        {
          "output_type": "execute_result",
          "data": {
            "text/plain": [
              "14"
            ]
          },
          "metadata": {
            "tags": []
          },
          "execution_count": 6
        }
      ]
    },
    {
      "cell_type": "code",
      "metadata": {
        "id": "kjFzxEFwiuiI",
        "colab_type": "code",
        "colab": {
          "base_uri": "https://localhost:8080/",
          "height": 34
        },
        "outputId": "76bc4518-f034-4921-c269-08ad605997ce"
      },
      "source": [
        "def record(**kwargs):\n",
        "  print(kwargs)\n",
        "record(name = \"test\", rollno=56, age= 20)"
      ],
      "execution_count": 8,
      "outputs": [
        {
          "output_type": "stream",
          "text": [
            "{'name': 'test', 'rollno': 56, 'age': 20}\n"
          ],
          "name": "stdout"
        }
      ]
    },
    {
      "cell_type": "code",
      "metadata": {
        "id": "VdJzN-wMlCEf",
        "colab_type": "code",
        "colab": {
          "base_uri": "https://localhost:8080/",
          "height": 34
        },
        "outputId": "9b50a192-ac2b-4130-ce4e-495f4f0557fc"
      },
      "source": [
        "def get_data(engine, *queries, **properties):\n",
        "  print(engine, queries, properties)\n",
        "  \n",
        "get_data('google', 'python', 'flask', 'django', limit=10, verbose = True)"
      ],
      "execution_count": 10,
      "outputs": [
        {
          "output_type": "stream",
          "text": [
            "google ('python', 'flask', 'django') {'limit': 10, 'verbose': True}\n"
          ],
          "name": "stdout"
        }
      ]
    },
    {
      "cell_type": "code",
      "metadata": {
        "id": "pFzKaMIGmfs5",
        "colab_type": "code",
        "colab": {
          "base_uri": "https://localhost:8080/",
          "height": 34
        },
        "outputId": "470f2a66-cf39-4fe4-f3c9-e7660750d2bd"
      },
      "source": [
        "lambda x, y:x+y\n",
        "\n",
        "add(2, 3)"
      ],
      "execution_count": 11,
      "outputs": [
        {
          "output_type": "execute_result",
          "data": {
            "text/plain": [
              "5"
            ]
          },
          "metadata": {
            "tags": []
          },
          "execution_count": 11
        }
      ]
    },
    {
      "cell_type": "markdown",
      "metadata": {
        "id": "eV3xcwfCr5qX",
        "colab_type": "text"
      },
      "source": [
        "# Lambda Function"
      ]
    },
    {
      "cell_type": "code",
      "metadata": {
        "id": "Dh7xJkCIuVfp",
        "colab_type": "code",
        "colab": {
          "base_uri": "https://localhost:8080/",
          "height": 34
        },
        "outputId": "05b92aea-add9-4e42-ee2b-2eda6271e39f"
      },
      "source": [
        "def mx(x, y):\n",
        "  if x > y:\n",
        "    return x\n",
        "  else:\n",
        "    return y\n",
        "mx(9, 10)\n",
        "  "
      ],
      "execution_count": 24,
      "outputs": [
        {
          "output_type": "execute_result",
          "data": {
            "text/plain": [
              "10"
            ]
          },
          "metadata": {
            "tags": []
          },
          "execution_count": 24
        }
      ]
    },
    {
      "cell_type": "code",
      "metadata": {
        "id": "Qx6HMii2ngZ_",
        "colab_type": "code",
        "colab": {
          "base_uri": "https://localhost:8080/",
          "height": 34
        },
        "outputId": "7b1e7f2c-62ee-4789-a013-d4be3d076687"
      },
      "source": [
        "mx = lambda x, y:x if x >y else y\n",
        "\n",
        "print(mx(8, 4))"
      ],
      "execution_count": 14,
      "outputs": [
        {
          "output_type": "stream",
          "text": [
            "8\n"
          ],
          "name": "stdout"
        }
      ]
    },
    {
      "cell_type": "markdown",
      "metadata": {
        "id": "XMmLIzucr-zQ",
        "colab_type": "text"
      },
      "source": [
        "# Map Function"
      ]
    },
    {
      "cell_type": "code",
      "metadata": {
        "id": "zqqyFB7Sogx_",
        "colab_type": "code",
        "colab": {
          "base_uri": "https://localhost:8080/",
          "height": 34
        },
        "outputId": "100d5b7d-cae9-4d26-8c70-dfada2faaf64"
      },
      "source": [
        "def square(lst1):\n",
        "  lst2 = []\n",
        "  for num in lst1:\n",
        "    lst2.append(num**2)\n",
        "  return lst2\n",
        "print(square([4, 3, 2, 1]))"
      ],
      "execution_count": 29,
      "outputs": [
        {
          "output_type": "stream",
          "text": [
            "[16, 9, 4, 1]\n"
          ],
          "name": "stdout"
        }
      ]
    },
    {
      "cell_type": "code",
      "metadata": {
        "id": "Q1BFqDUssSPE",
        "colab_type": "code",
        "colab": {
          "base_uri": "https://localhost:8080/",
          "height": 34
        },
        "outputId": "d206d3b4-0cd1-440b-f9d9-e26958d7b70c"
      },
      "source": [
        "n = [4, 3, 2, 1]\n",
        "print(list(map(lambda x: x**2, n)))"
      ],
      "execution_count": 22,
      "outputs": [
        {
          "output_type": "stream",
          "text": [
            "[16, 9, 4, 1]\n"
          ],
          "name": "stdout"
        }
      ]
    },
    {
      "cell_type": "code",
      "metadata": {
        "id": "foD4GcaCu71U",
        "colab_type": "code",
        "colab": {
          "base_uri": "https://localhost:8080/",
          "height": 34
        },
        "outputId": "7f9b573d-28d8-4910-b90d-5a5e2d1a1b7f"
      },
      "source": [
        "#List comprehension \n",
        "print([x**2 for x in n])"
      ],
      "execution_count": 33,
      "outputs": [
        {
          "output_type": "stream",
          "text": [
            "[16, 9, 4, 1]\n"
          ],
          "name": "stdout"
        }
      ]
    },
    {
      "cell_type": "code",
      "metadata": {
        "id": "ZOLJ4HPAzqyU",
        "colab_type": "code",
        "colab": {}
      },
      "source": [
        ""
      ],
      "execution_count": 0,
      "outputs": []
    },
    {
      "cell_type": "markdown",
      "metadata": {
        "id": "l8XKj3fhz4ZV",
        "colab_type": "text"
      },
      "source": [
        "# Filter"
      ]
    },
    {
      "cell_type": "code",
      "metadata": {
        "id": "tgwlGMBS0Ji7",
        "colab_type": "code",
        "colab": {
          "base_uri": "https://localhost:8080/",
          "height": 34
        },
        "outputId": "435f1af3-8b4c-4840-c9fb-4c2303324047"
      },
      "source": [
        "def over_two(lst1):\n",
        "  lst2 = [x for x in lst1 if x > 2]\n",
        "  return lst2\n",
        "print(over_two([4, 3, 2, 1]))"
      ],
      "execution_count": 34,
      "outputs": [
        {
          "output_type": "stream",
          "text": [
            "[4, 3]\n"
          ],
          "name": "stdout"
        }
      ]
    },
    {
      "cell_type": "code",
      "metadata": {
        "id": "TQZU4jro0icD",
        "colab_type": "code",
        "colab": {
          "base_uri": "https://localhost:8080/",
          "height": 34
        },
        "outputId": "b5801ab5-fc3a-4fb7-e6d0-65480b2908e4"
      },
      "source": [
        "n = [4, 3, 2, 1]\n",
        "print(list(filter(lambda x:x > 2, n)))"
      ],
      "execution_count": 35,
      "outputs": [
        {
          "output_type": "stream",
          "text": [
            "[4, 3]\n"
          ],
          "name": "stdout"
        }
      ]
    },
    {
      "cell_type": "markdown",
      "metadata": {
        "id": "OFB04Ekwz6w3",
        "colab_type": "text"
      },
      "source": [
        "# Reduce"
      ]
    },
    {
      "cell_type": "code",
      "metadata": {
        "id": "vJz2K-VY03VM",
        "colab_type": "code",
        "colab": {
          "base_uri": "https://localhost:8080/",
          "height": 34
        },
        "outputId": "681c725b-35e3-407a-fadd-4647d4666139"
      },
      "source": [
        "def mult(lst1):\n",
        "  prod = lst1[0]\n",
        "  for i in range(1, len(lst1)):\n",
        "    prod*=lst1[i]\n",
        "  return prod\n",
        "print(mult([4, 3, 2, 1]))"
      ],
      "execution_count": 37,
      "outputs": [
        {
          "output_type": "stream",
          "text": [
            "24\n"
          ],
          "name": "stdout"
        }
      ]
    },
    {
      "cell_type": "code",
      "metadata": {
        "id": "6-_UheXn1SKm",
        "colab_type": "code",
        "colab": {
          "base_uri": "https://localhost:8080/",
          "height": 34
        },
        "outputId": "c0c57448-24d7-499b-a5b4-de7f146f0f86"
      },
      "source": [
        "from functools import reduce\n",
        "n = [4, 3, 2, 1]\n",
        "print(reduce(lambda x, y: x*y, n))"
      ],
      "execution_count": 39,
      "outputs": [
        {
          "output_type": "stream",
          "text": [
            "24\n"
          ],
          "name": "stdout"
        }
      ]
    },
    {
      "cell_type": "code",
      "metadata": {
        "id": "67J9NS2J1fDk",
        "colab_type": "code",
        "colab": {}
      },
      "source": [
        ""
      ],
      "execution_count": 0,
      "outputs": []
    }
  ]
}