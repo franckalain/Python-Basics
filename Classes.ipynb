{
  "nbformat": 4,
  "nbformat_minor": 0,
  "metadata": {
    "colab": {
      "name": "Classes.ipynb",
      "version": "0.3.2",
      "provenance": [],
      "include_colab_link": true
    },
    "kernelspec": {
      "name": "python3",
      "display_name": "Python 3"
    }
  },
  "cells": [
    {
      "cell_type": "markdown",
      "metadata": {
        "id": "view-in-github",
        "colab_type": "text"
      },
      "source": [
        "<a href=\"https://colab.research.google.com/github/franckalain/Python-Basics/blob/master/Classes.ipynb\" target=\"_parent\"><img src=\"https://colab.research.google.com/assets/colab-badge.svg\" alt=\"Open In Colab\"/></a>"
      ]
    },
    {
      "cell_type": "markdown",
      "metadata": {
        "id": "W8dJqV5FqbNJ",
        "colab_type": "text"
      },
      "source": [
        "### Class Definition"
      ]
    },
    {
      "cell_type": "code",
      "metadata": {
        "id": "ze0HrWA4o5nw",
        "colab_type": "code",
        "colab": {}
      },
      "source": [
        "class MyFirstClass:\n",
        "  pass"
      ],
      "execution_count": 0,
      "outputs": []
    },
    {
      "cell_type": "markdown",
      "metadata": {
        "id": "Oua9NCvLr11o",
        "colab_type": "text"
      },
      "source": [
        "### Creating an instance (object) of a class"
      ]
    },
    {
      "cell_type": "code",
      "metadata": {
        "id": "J2Cnj-6xqddn",
        "colab_type": "code",
        "colab": {}
      },
      "source": [
        "a = MyFirstClass()"
      ],
      "execution_count": 0,
      "outputs": []
    },
    {
      "cell_type": "code",
      "metadata": {
        "id": "P3k5N2HuriRJ",
        "colab_type": "code",
        "colab": {
          "base_uri": "https://localhost:8080/",
          "height": 34
        },
        "outputId": "25e324fc-5cc3-4c02-9000-55f0a49d1705"
      },
      "source": [
        "print(a)"
      ],
      "execution_count": 4,
      "outputs": [
        {
          "output_type": "stream",
          "text": [
            "<__main__.MyFirstClass object at 0x7f369c86f978>\n"
          ],
          "name": "stdout"
        }
      ]
    },
    {
      "cell_type": "code",
      "metadata": {
        "id": "jzr8O9weskcU",
        "colab_type": "code",
        "colab": {}
      },
      "source": [
        "b = MyFirstClass()"
      ],
      "execution_count": 0,
      "outputs": []
    },
    {
      "cell_type": "code",
      "metadata": {
        "id": "P8siTR7Grj-2",
        "colab_type": "code",
        "colab": {
          "base_uri": "https://localhost:8080/",
          "height": 34
        },
        "outputId": "0aef0776-e254-47c5-ae59-81b1c19eada9"
      },
      "source": [
        "b"
      ],
      "execution_count": 6,
      "outputs": [
        {
          "output_type": "execute_result",
          "data": {
            "text/plain": [
              "<__main__.MyFirstClass at 0x7f369c86f748>"
            ]
          },
          "metadata": {
            "tags": []
          },
          "execution_count": 6
        }
      ]
    },
    {
      "cell_type": "markdown",
      "metadata": {
        "id": "e58Bh4LCs2Kp",
        "colab_type": "text"
      },
      "source": [
        "### Adding attributes\n",
        "object.attribute = value"
      ]
    },
    {
      "cell_type": "code",
      "metadata": {
        "id": "KaQ6Sjq4snPE",
        "colab_type": "code",
        "colab": {
          "base_uri": "https://localhost:8080/",
          "height": 51
        },
        "outputId": "9dded237-cf98-47bf-a89f-f71a63813fd7"
      },
      "source": [
        "class Point():\n",
        "  pass\n",
        "\n",
        "p1 = Point()\n",
        "p2 = Point()\n",
        "\n",
        "p1.x = 'hello'\n",
        "p1.y = 3\n",
        "\n",
        "p2.x = 10\n",
        "p2.y = 12\n",
        "\n",
        "print(p1.x, p1.y)\n",
        "print(p2.x, p2.y)"
      ],
      "execution_count": 13,
      "outputs": [
        {
          "output_type": "stream",
          "text": [
            "hello 3\n",
            "10 12\n"
          ],
          "name": "stdout"
        }
      ]
    },
    {
      "cell_type": "code",
      "metadata": {
        "id": "g1oeXVvkuM5J",
        "colab_type": "code",
        "colab": {}
      },
      "source": [
        ""
      ],
      "execution_count": 0,
      "outputs": []
    }
  ]
}