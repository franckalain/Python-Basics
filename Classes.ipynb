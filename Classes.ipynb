{
  "nbformat": 4,
  "nbformat_minor": 0,
  "metadata": {
    "colab": {
      "name": "Classes.ipynb",
      "version": "0.3.2",
      "provenance": [],
      "include_colab_link": true
    },
    "kernelspec": {
      "name": "python3",
      "display_name": "Python 3"
    }
  },
  "cells": [
    {
      "cell_type": "markdown",
      "metadata": {
        "id": "view-in-github",
        "colab_type": "text"
      },
      "source": [
        "<a href=\"https://colab.research.google.com/github/franckalain/Python-Basics/blob/master/Classes.ipynb\" target=\"_parent\"><img src=\"https://colab.research.google.com/assets/colab-badge.svg\" alt=\"Open In Colab\"/></a>"
      ]
    },
    {
      "cell_type": "markdown",
      "metadata": {
        "id": "W8dJqV5FqbNJ",
        "colab_type": "text"
      },
      "source": [
        "### Classes and Instances"
      ]
    },
    {
      "cell_type": "code",
      "metadata": {
        "id": "qNFBNMYJlyS5",
        "colab_type": "code",
        "colab": {
          "base_uri": "https://localhost:8080/",
          "height": 34
        },
        "outputId": "8a58e1b6-7c99-49e9-f179-c95cef907f5c"
      },
      "source": [
        "class Employee:\n",
        "  def __init__(self, first, last, pay):\n",
        "    self.first = first\n",
        "    self.last = last\n",
        "    self.pay = pay\n",
        "    self.email = first + last + '.' + '@company.com'\n",
        "    \n",
        "  def fullname(self):\n",
        "    return '{} {}'.format(self.first, self.last)\n",
        "  \n",
        "  \n",
        "emp_1 = Employee('Franck', 'Alain', 70000)\n",
        "emp_2 = Employee('Ange', 'konan', 50000)\n",
        "\n",
        "print(emp_1.fullname())"
      ],
      "execution_count": 7,
      "outputs": [
        {
          "output_type": "stream",
          "text": [
            "Franck Alain\n"
          ],
          "name": "stdout"
        }
      ]
    },
    {
      "cell_type": "code",
      "metadata": {
        "id": "ZZ1qER-62qNl",
        "colab_type": "code",
        "colab": {}
      },
      "source": [
        "# print(Employee.fullname(emp_1))"
      ],
      "execution_count": 0,
      "outputs": []
    },
    {
      "cell_type": "markdown",
      "metadata": {
        "id": "rxbaTICTTlRv",
        "colab_type": "text"
      },
      "source": [
        "### Class Variables"
      ]
    },
    {
      "cell_type": "code",
      "metadata": {
        "id": "lSOJg-nPTqGY",
        "colab_type": "code",
        "colab": {
          "base_uri": "https://localhost:8080/",
          "height": 51
        },
        "outputId": "1ed32403-c6d4-44e6-ecdd-f92cdc2cce7c"
      },
      "source": [
        "class Employee:\n",
        "  def __init__(self, first, last, pay):\n",
        "    self.first = first\n",
        "    self.last = last\n",
        "    self.pay = pay\n",
        "    self.email = first + last + '.' + '@company.com'\n",
        "    \n",
        "  def fullname(self):\n",
        "    return '{} {}'.format(self.first, self.last)\n",
        "  \n",
        "  def apply_raise(self):\n",
        "    self.pay = int(self.pay * 1.04)\n",
        "  \n",
        "emp_1 = Employee('Franck', 'Alain', 70000)\n",
        "emp_2 = Employee('Ange', 'konan', 50000)\n",
        "\n",
        "print(emp_1.pay)\n",
        "emp_1.apply_raise()\n",
        "print(emp_1.pay)"
      ],
      "execution_count": 9,
      "outputs": [
        {
          "output_type": "stream",
          "text": [
            "70000\n",
            "72800\n"
          ],
          "name": "stdout"
        }
      ]
    },
    {
      "cell_type": "code",
      "metadata": {
        "id": "i784RfbGV1Tl",
        "colab_type": "code",
        "colab": {
          "base_uri": "https://localhost:8080/",
          "height": 51
        },
        "outputId": "fde346eb-7293-4936-fbac-8e85a85e5d36"
      },
      "source": [
        "class Employee:\n",
        "  \n",
        "  raise_amount = 1.04\n",
        "  \n",
        "  def __init__(self, first, last, pay):\n",
        "    self.first = first\n",
        "    self.last = last\n",
        "    self.pay = pay\n",
        "    self.email = first + last + '.' + '@company.com'\n",
        "    \n",
        "  def fullname(self):\n",
        "    return '{} {}'.format(self.first, self.last)\n",
        "  \n",
        "  def apply_raise(self):\n",
        "    self.pay = int(self.pay * self.raise_amount)\n",
        "  \n",
        "emp_1 = Employee('Franck', 'Alain', 70000)\n",
        "emp_2 = Employee('Ange', 'konan', 50000)\n",
        "\n",
        "print(emp_1.pay)\n",
        "emp_1.apply_raise()\n",
        "print(emp_1.pay)"
      ],
      "execution_count": 10,
      "outputs": [
        {
          "output_type": "stream",
          "text": [
            "70000\n",
            "72800\n"
          ],
          "name": "stdout"
        }
      ]
    },
    {
      "cell_type": "code",
      "metadata": {
        "id": "TVlSaAixYYGc",
        "colab_type": "code",
        "colab": {
          "base_uri": "https://localhost:8080/",
          "height": 34
        },
        "outputId": "3074f37e-a76e-48e5-b695-4d83abe0b479"
      },
      "source": [
        "Employee.raise_amount"
      ],
      "execution_count": 12,
      "outputs": [
        {
          "output_type": "execute_result",
          "data": {
            "text/plain": [
              "1.04"
            ]
          },
          "metadata": {
            "tags": []
          },
          "execution_count": 12
        }
      ]
    },
    {
      "cell_type": "code",
      "metadata": {
        "id": "mq05w6g0YzbP",
        "colab_type": "code",
        "colab": {
          "base_uri": "https://localhost:8080/",
          "height": 34
        },
        "outputId": "e13065fe-5131-46ad-e8c0-6031cacc4977"
      },
      "source": [
        "emp_1.raise_amount"
      ],
      "execution_count": 13,
      "outputs": [
        {
          "output_type": "execute_result",
          "data": {
            "text/plain": [
              "1.04"
            ]
          },
          "metadata": {
            "tags": []
          },
          "execution_count": 13
        }
      ]
    },
    {
      "cell_type": "code",
      "metadata": {
        "id": "0MUMvUijYqcf",
        "colab_type": "code",
        "colab": {
          "base_uri": "https://localhost:8080/",
          "height": 34
        },
        "outputId": "dcd3441e-ea3a-4275-9a4d-549f83b27351"
      },
      "source": [
        "emp_2.raise_amount"
      ],
      "execution_count": 14,
      "outputs": [
        {
          "output_type": "execute_result",
          "data": {
            "text/plain": [
              "1.04"
            ]
          },
          "metadata": {
            "tags": []
          },
          "execution_count": 14
        }
      ]
    },
    {
      "cell_type": "code",
      "metadata": {
        "id": "uUybKuLuY41-",
        "colab_type": "code",
        "colab": {}
      },
      "source": [
        ""
      ],
      "execution_count": 0,
      "outputs": []
    }
  ]
}